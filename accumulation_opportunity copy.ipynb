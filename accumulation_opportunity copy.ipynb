{
 "cells": [
  {
   "cell_type": "markdown",
   "metadata": {},
   "source": [
    "# Quantile Trading"
   ]
  },
  {
   "cell_type": "markdown",
   "metadata": {},
   "source": [
    "## Utility Functions"
   ]
  },
  {
   "cell_type": "code",
   "execution_count": null,
   "metadata": {},
   "outputs": [],
   "source": [
    "# <include-accumulation_opportunity/utils.py>"
   ]
  },
  {
   "cell_type": "markdown",
   "metadata": {},
   "source": [
    "## Imports"
   ]
  },
  {
   "cell_type": "code",
   "execution_count": null,
   "metadata": {
    "ExecuteTime": {
     "end_time": "2021-03-30T15:35:41.532994Z",
     "start_time": "2021-03-30T15:35:41.530344Z"
    }
   },
   "outputs": [],
   "source": [
    "# <imports>\n",
    "from pathlib import Path\n",
    "\n",
    "import numpy as np\n",
    "import pandas as pd\n",
    "import plotly.io as pio\n",
    "import plotly.express as px\n",
    "import plotly.graph_objects as go\n",
    "\n",
    "from tqdm.notebook import trange\n",
    "\n",
    "from accumulation_opportunity import utils\n",
    "\n",
    "pd.options.plotting.backend = \"plotly\"\n",
    "pio.templates.default = \"none\""
   ]
  },
  {
   "cell_type": "markdown",
   "metadata": {},
   "source": [
    "## Summary"
   ]
  },
  {
   "cell_type": "code",
   "execution_count": null,
   "metadata": {},
   "outputs": [],
   "source": [
    "df = utils.get_trade_data(\"BTC-USD\", \"2018\")\n",
    "df.name = \"BTC-USD\""
   ]
  },
  {
   "cell_type": "code",
   "execution_count": null,
   "metadata": {},
   "outputs": [],
   "source": [
    "df_c = df.loc[\"2018-04-08 22:05\":\"2018-04-08 22:10\"]\n",
    "fig = px.scatter(df_c, x=df_c.index, y=df_c.PriceMillionths, color=df_c.Side.astype(str))\n",
    "fig.update_traces(marker=dict(size=3)),\n",
    "fig.show()"
   ]
  },
  {
   "cell_type": "code",
   "execution_count": null,
   "metadata": {},
   "outputs": [],
   "source": [
    "fig = px.scatter(df_c, x=df_c.index, y=(df_c.SizeBillionths * df_c.Side), color=df_c.Side.astype(str))\n",
    "fig.show()"
   ]
  },
  {
   "cell_type": "code",
   "execution_count": null,
   "metadata": {},
   "outputs": [],
   "source": [
    "df"
   ]
  },
  {
   "cell_type": "code",
   "execution_count": null,
   "metadata": {},
   "outputs": [],
   "source": [
    "df_15min = df.groupby(\"Side\").resample(\"15min\").sum()[[\"SizeBillionths\"]]\n",
    "df_15min = df_15min.reset_index()\n",
    "df_15min.SizeBillionths = df_15min.SizeBillionths * df_15min.Side\n",
    "df_15min = df_15min.sort_values([\"Side\", \"timestamp_utc_nanoseconds\"], ascending=[False, True])\n",
    "df_15min.name = df.name\n",
    "df_15min.plot(x=\"timestamp_utc_nanoseconds\", y=\"SizeBillionths\", kind=\"bar\", title=f\"{df_15min.name}: Total Volume Traded in 15 Minute Intervals\", color=df_15min.Side.astype(str), labels={\"color\": \"Side\"})\n"
   ]
  },
  {
   "cell_type": "code",
   "execution_count": null,
   "metadata": {},
   "outputs": [],
   "source": [
    "df_15min.groupby([\"Side\", \"timestamp_utc_nanoseconds\"]).sum().unstack(\"Side\").describe()"
   ]
  },
  {
   "cell_type": "markdown",
   "metadata": {},
   "source": [
    "\\[OUT OF DATE]\n",
    "\n",
    "Here we think about setting the chunk size such that some average number of trades will take place over a 15 minute window.\n",
    "* Starting on the buy side (Side=1), if we want there to be 20 trades over 15 minutes, with an average of volume of 6.5e10, we would set the chunk size at 3.25e9\n",
    "* To set the quantity, $Q$, to be of consequence, we consider ranges up to our total participation rate"
   ]
  },
  {
   "cell_type": "code",
   "execution_count": null,
   "metadata": {},
   "outputs": [],
   "source": [
    "arrival_time = \"2018-04-08 22:05\"\n",
    "participation = .050\n",
    "max_trade_participation = 0.10\n",
    "\n",
    "chunk_size = 6.5e9\n",
    "quantity = 3.25e9\n",
    "side = 1\n",
    "price_window_ms = 200"
   ]
  },
  {
   "cell_type": "code",
   "execution_count": null,
   "metadata": {},
   "outputs": [],
   "source": [
    "def get_accum_df(\n",
    "    df: pd.DataFrame,\n",
    "    side: int = 1,\n",
    "    arrival_time: str = \"2018-04-08 22:05\",\n",
    "    participation = .050,\n",
    "    max_trade_participation = 0.10,\n",
    "    chunk_size = 6.5e9,\n",
    "    quantity = 3.25e9,\n",
    "    price_window_ms = 200\n",
    "):\n",
    "    df_accum = df.loc[arrival_time:].copy()\n",
    "    df_accum[\"CumSizeBillionths\"] = df_accum.SizeBillionths.cumsum()\n",
    "\n",
    "    df_accum = df_accum[df_accum.Side == side].copy()\n",
    "\n",
    "    price_agg = \"max\" if side else \"min\"\n",
    "    df_accum = (\n",
    "        df_accum.reset_index().groupby(\"timestamp_utc_nanoseconds\")\n",
    "        .agg({\"CumSizeBillionths\": \"max\", \"SizeBillionths\": \"sum\", \"PriceMillionths\": price_agg })\n",
    "        )\n",
    "\n",
    "    df_accum[\"CumChunks\"] = df_accum.CumSizeBillionths.floordiv(chunk_size)\n",
    "    df_accum[\"CumParticipation\"] = (\n",
    "        df_accum.CumChunks.map(\n",
    "            df_accum.groupby(\"CumChunks\").min()[\"CumSizeBillionths\"].iloc[1:])\n",
    "            * participation).fillna(0).apply(lambda x: min(x, quantity)\n",
    "            )\n",
    "\n",
    "    df_accum[\"TradePrice\"] = df_accum.PriceMillionths.sort_index(ascending=False).rolling(f\"{price_window_ms}ms\").agg(price_agg).sort_index()\n",
    "\n",
    "    df_accum[\"QualifiedTrade\"] = df_accum[\"TradePrice\"] == df_accum[\"PriceMillionths\"]\n",
    "\n",
    "    df_accum[\"MaxTradeSize\"] = df_accum.SizeBillionths * max_trade_participation\n",
    "\n",
    "    return df_accum"
   ]
  },
  {
   "cell_type": "code",
   "execution_count": null,
   "metadata": {},
   "outputs": [],
   "source": [
    "df_accum_buy, df_accum_sell = [get_accum_df(df, s) for s in [1, -1]]"
   ]
  },
  {
   "cell_type": "code",
   "execution_count": null,
   "metadata": {},
   "outputs": [],
   "source": [
    "def get_trades(df_accum: pd.DataFrame):\n",
    "    trades = []\n",
    "    cum_trades = 0\n",
    "    tick_idx = 0\n",
    "    while cum_trades < df_accum.CumParticipation.max():\n",
    "        tick = df_accum.iloc[tick_idx]\n",
    "        \n",
    "        if tick.CumParticipation - cum_trades > 0 and tick.QualifiedTrade:\n",
    "            trade_size = min(tick.CumParticipation - cum_trades, tick.MaxTradeSize)\n",
    "            trades.append((tick.name, trade_size, tick.TradePrice))\n",
    "            cum_trades += trade_size\n",
    "        \n",
    "        tick_idx += 1\n",
    "    return trades"
   ]
  },
  {
   "cell_type": "code",
   "execution_count": null,
   "metadata": {},
   "outputs": [],
   "source": [
    "df_trades = pd.DataFrame(get_trades(df_accum_buy), columns=[\"timestamp_utc_nanoseconds\", \"TradeSize\", \"TradePrice\"]).set_index(\"timestamp_utc_nanoseconds\").astype(int)"
   ]
  },
  {
   "cell_type": "code",
   "execution_count": null,
   "metadata": {},
   "outputs": [],
   "source": [
    "df_trades.TradeSize.sum()"
   ]
  },
  {
   "cell_type": "code",
   "execution_count": null,
   "metadata": {},
   "outputs": [],
   "source": [
    "columns = [\"PriceMillionths\", \"SizeBillionths\", \"Side\"]\n",
    "df_result = df[:df_trades.index.max()].copy()\n",
    "\n",
    "fig = go.Figure()\n",
    "fig.add_scatter(x=df_result.index, y=df_result.PriceMillionths, mode=\"markers\", name=\"Buy\", marker=dict(size=7, color=utils.COLORS[2]))\n",
    "fig.add_scatter(x=df[arrival_time:df_trades.index.max()].index, y=df_result[df_result.Side == -1].PriceMillionths, mode=\"markers\", name=\"Sell\", marker=dict(size=7, color=utils.COLORS[4]))\n",
    "fig.add_scatter(x=df_trades.index, y=df_trades.TradePrice, mode=\"markers\", name=\"Trade - Buy\", marker=dict(size=4, color=utils.COLORS[1]))\n",
    "fig.update_layout(\n",
    "    title=\"Trade Prices\",\n",
    "    xaxis_title=\"timestamp_utc_nanoseconds\",\n",
    "    yaxis_title=\"PriceMillionths\"\n",
    "    )\n",
    "fig.show()"
   ]
  },
  {
   "cell_type": "code",
   "execution_count": null,
   "metadata": {},
   "outputs": [],
   "source": [
    "bar_width = 2000\n",
    "\n",
    "fig = go.Figure()\n",
    "fig.add_bar(x=df_result[df_result.Side == 1].index, y=df_result[df_result.Side == 1].SizeBillionths,name=\"Buy\", marker_color=utils.COLORS[0], width=bar_width)\n",
    "fig.add_bar(x=df_result[df_result.Side == -1].index, y=df_result[df_result.Side == -1].SizeBillionths * -1, name=\"Sell\", marker_color=utils.COLORS[4], width=bar_width)\n",
    "fig.add_bar(x=df_trades.index, y=df_trades.TradeSize,name=\"Trade - Buy\", marker_color=utils.COLORS[1], width=bar_width)\n",
    "fig.update_layout(\n",
    "    title=\"Trade Sizes\",\n",
    "    xaxis_title=\"timestamp_utc_nanoseconds\",\n",
    "    yaxis_title=\"SizeBillionths\"\n",
    "    )\n",
    "# fig.update_traces(marker=dict(size=3)),\n",
    "fig.show()"
   ]
  },
  {
   "cell_type": "code",
   "execution_count": null,
   "metadata": {},
   "outputs": [],
   "source": [
    "fig = go.Figure()\n",
    "# fig.add_scatter(x=df_result.index, y=df_result.CumSizeBillionths, name=\"Buy + Sell\", line=dict(color=utils.COLORS[2]))\n",
    "fig.add_scatter(x=df_result.index, y=df_result.CumParticipation, name=\"Target Participation\", line=dict(color=utils.COLORS[3]))\n",
    "fig.add_scatter(x=df_trades.index, y=df_trades.TradeSize.cumsum(), name=\"Cumulative Trades\", line=dict(color=utils.COLORS[1]))\n",
    "\n",
    "# fig.add_scatter(x=df_c.index, y=df_c.SizeBillionths.cumsum(), name=\"Buy\", line=dict(color=utils.COLORS[0]))\n",
    "fig.update_layout(title=\"Target Participation vs. Cumulative Trades\")"
   ]
  }
 ],
 "metadata": {
  "kernelspec": {
   "display_name": "Python 3.8.5 64-bit ('accumulation_opportunity-3KktX0-n': pipenv)",
   "name": "python385jvsc74a57bd0986765e885b93fe436a4e7ca800ac30b39ab6eb7110d958f36f28aa743766d57"
  },
  "language_info": {
   "codemirror_mode": {
    "name": "ipython",
    "version": 3
   },
   "file_extension": ".py",
   "mimetype": "text/x-python",
   "name": "python",
   "nbconvert_exporter": "python",
   "pygments_lexer": "ipython3",
   "version": "3.8.5"
  }
 },
 "nbformat": 4,
 "nbformat_minor": 1
}
